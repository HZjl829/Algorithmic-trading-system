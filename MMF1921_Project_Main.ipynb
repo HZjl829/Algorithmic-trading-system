{
  "cells": [
    {
      "cell_type": "markdown",
      "metadata": {
        "collapsed": false,
        "id": "lgI57__WgMbN"
      },
      "source": [
        "\n",
        "# MMF1921 - Backtesting Template\n",
        "\n",
        "The purpose of this program is to provide a template with which to develop Project 2. The project requires you to test different models  (and/or different model combinations) to create an asset management algorithm.\n",
        "\n",
        "This template will be used by the instructor and TA to assess your trading algorithm using different datasets.\n",
        "\n",
        "# PLEASE DO NOT MODIFY THIS TEMPLATE (for Project submission purposes)\n",
        "\n",
        "# 1. Read input files"
      ]
    },
    {
      "cell_type": "code",
      "execution_count": 1,
      "metadata": {
        "ExecuteTime": {
          "end_time": "2024-03-20T20:29:36.438601400Z",
          "start_time": "2024-03-20T20:29:36.377918500Z"
        },
        "id": "-H5XKzrTgMbR"
      },
      "outputs": [],
      "source": [
        "import time\n",
        "import math\n",
        "from scipy.stats import gmean\n",
        "import matplotlib.pyplot as plt\n",
        "from services.project_function import *\n",
        "import pandas as pd\n",
        "\n",
        "adjClose = pd.read_csv(\"MMF1921_AssetPrices_1.csv\", index_col=0)\n",
        "factorRet = pd.read_csv(\"MMF1921_FactorReturns_1.csv\", index_col=0)"
      ]
    },
    {
      "cell_type": "code",
      "execution_count": 2,
      "metadata": {
        "ExecuteTime": {
          "end_time": "2024-03-20T20:29:36.440587500Z",
          "start_time": "2024-03-20T20:29:36.396917700Z"
        },
        "id": "Y_N9phNMgMbS"
      },
      "outputs": [],
      "source": [
        "adjClose.index = pd.to_datetime(adjClose.index)\n",
        "factorRet.index = pd.to_datetime(factorRet.index)"
      ]
    },
    {
      "cell_type": "code",
      "execution_count": 3,
      "metadata": {
        "ExecuteTime": {
          "end_time": "2024-03-20T20:29:36.470358Z",
          "start_time": "2024-03-20T20:29:36.411919Z"
        },
        "id": "LCgyHAZNgMbS"
      },
      "outputs": [],
      "source": [
        "# Initial budget to invest ($100,000)\n",
        "initialVal = 100000\n",
        "\n",
        "# Length of investment period (in months)\n",
        "investPeriod = 6\n",
        "\n",
        "factorRet = factorRet\n",
        "\n",
        "#rf and factor returns\n",
        "riskFree = factorRet['RF']\n",
        "factorRet = factorRet.loc[:,factorRet.columns != 'RF']\n"
      ]
    },
    {
      "cell_type": "code",
      "execution_count": 4,
      "metadata": {
        "ExecuteTime": {
          "end_time": "2024-03-20T20:29:36.473235900Z",
          "start_time": "2024-03-20T20:29:36.426396Z"
        },
        "id": "y3tgD3F7gMbT"
      },
      "outputs": [],
      "source": [
        "#Identify the tickers and the dates\n",
        "tickers = adjClose.columns\n",
        "dates   = factorRet.index"
      ]
    },
    {
      "cell_type": "code",
      "execution_count": 5,
      "metadata": {
        "ExecuteTime": {
          "end_time": "2024-03-20T20:29:36.474236800Z",
          "start_time": "2024-03-20T20:29:36.442586800Z"
        },
        "id": "ema-LJbPgMbT"
      },
      "outputs": [],
      "source": [
        "# Calculate the stocks monthly excess returns\n",
        "# pct change and drop the first null observation\n",
        "returns = adjClose.pct_change(1).iloc[1:, :]\n",
        "returns = returns  - np.diag(riskFree.values) @ np.ones_like(returns.values)\n",
        "# Align the price table to the asset and factor returns tables by discarding the first observation.\n",
        "adjClose = adjClose.iloc[1:,:]"
      ]
    },
    {
      "cell_type": "code",
      "execution_count": 6,
      "metadata": {
        "ExecuteTime": {
          "end_time": "2024-03-20T20:29:36.487236200Z",
          "start_time": "2024-03-20T20:29:36.458587500Z"
        },
        "id": "TQMSIo2pgMbT"
      },
      "outputs": [],
      "source": [
        "assert adjClose.index[0] == returns.index[0]\n",
        "assert adjClose.index[0] == factorRet.index[0]"
      ]
    },
    {
      "cell_type": "markdown",
      "metadata": {
        "collapsed": false,
        "id": "C0hZGO1FgMbU"
      },
      "source": [
        "# 2. Run your program\n",
        "\n",
        "This section will run your Project1_Function in a loop. The data will be loaded progressively as a growing window of historical observations.\n",
        "Rebalancing will take place after every loop"
      ]
    },
    {
      "cell_type": "code",
      "execution_count": 7,
      "metadata": {
        "ExecuteTime": {
          "end_time": "2024-03-20T20:29:36.659439300Z",
          "start_time": "2024-03-20T20:29:36.478235300Z"
        },
        "id": "qCe2ZZ-GgMbU"
      },
      "outputs": [
        {
          "name": "stdout",
          "output_type": "stream",
          "text": [
            "Status: infeasible\n",
            "Status: infeasible\n",
            "Status: infeasible\n",
            "Status: infeasible\n",
            "Status: infeasible\n",
            "Status: infeasible\n",
            "Status: infeasible\n",
            "Status: infeasible\n",
            "Status: infeasible\n",
            "Status: infeasible\n",
            "Status: infeasible\n",
            "Status: infeasible\n",
            "Status: infeasible\n",
            "Status: infeasible\n",
            "Status: infeasible\n",
            "Status: infeasible\n",
            "Status: infeasible\n",
            "Status: infeasible\n",
            "Status: infeasible\n",
            "Status: infeasible\n"
          ]
        }
      ],
      "source": [
        "# Start of out-of-sample test period\n",
        "testStart = returns.index[0] + pd.offsets.DateOffset(years=5)\n",
        "\n",
        "#End of the first investment period\n",
        "testEnd = testStart + pd.offsets.DateOffset(months=investPeriod) -  pd.offsets.DateOffset(days = 1)\n",
        "\n",
        "# End of calibration period\n",
        "calEnd = testStart -  pd.offsets.DateOffset(days = 1)\n",
        "\n",
        "# Total number of investment periods\n",
        "NoPeriods = math.ceil((returns.index[-1].to_period('M') - testStart.to_period('M')).n / investPeriod)\n",
        "\n",
        "# Number of assets\n",
        "n  = len(tickers)\n",
        "\n",
        "# Preallocate space for the portfolio weights (x0 will be used to calculate\n",
        "# the turnover rate)\n",
        "x  = np.zeros([n, NoPeriods])\n",
        "x0 = np.zeros([n, NoPeriods])\n",
        "\n",
        "# Preallocate space for the portfolio per period value and turnover\n",
        "currentVal = np.zeros([NoPeriods, 1])\n",
        "turnover   = np.zeros([NoPeriods, 1])\n",
        "\n",
        "#Initiate counter for the number of observations per investment period\n",
        "toDay = 0\n",
        "\n",
        "# Measure runtime: start the clock\n",
        "start_time = time.time()\n",
        "\n",
        "# Empty list to measure the value of the portfolio over the period\n",
        "portfValue = []\n",
        "\n",
        "for t in range(NoPeriods):\n",
        "    # Subset the returns and factor returns corresponding to the current calibration period.\n",
        "    periodReturns = returns[returns.index <= calEnd]\n",
        "    periodFactRet = factorRet[factorRet.index <= calEnd]\n",
        "\n",
        "    current_price_idx = (calEnd - pd.offsets.DateOffset(months=1) <= adjClose.index)&(adjClose.index <= calEnd)\n",
        "    currentPrices = adjClose[current_price_idx]\n",
        "\n",
        "    # Subset the prices corresponding to the current out-of-sample test period.\n",
        "    periodPrices_idx = (testStart <= adjClose.index)&(adjClose.index <= testEnd)\n",
        "    periodPrices = adjClose[periodPrices_idx]\n",
        "\n",
        "    assert len(periodPrices) == investPeriod\n",
        "    assert len(currentPrices) == 1\n",
        "    # Set the initial value of the portfolio or update the portfolio value\n",
        "    if t == 0:\n",
        "        currentVal[0] = initialVal\n",
        "    else:\n",
        "        currentVal[t] = currentPrices @  NoShares.values.T\n",
        "        #Store the current asset weights (before optimization takes place)\n",
        "        x0[:,t] = currentPrices.values*NoShares.values/currentVal[t]\n",
        "\n",
        "    #----------------------------------------------------------------------\n",
        "    # Portfolio optimization\n",
        "    # You must write code your own algorithmic trading function\n",
        "    # The project function is in the services folder\n",
        "    # Take in the period returns and period factor returns and produce\n",
        "    # an allocation\n",
        "    #----------------------------------------------------------------------\n",
        "    x[:,t] = project_function(periodReturns, periodFactRet, x0)\n",
        "\n",
        "    #Calculate the turnover rate\n",
        "    if t > 0:\n",
        "        turnover[t] = np.sum(np.abs( x[:,t] - x0[:,t] ) )\n",
        "\n",
        "    # Number of shares your portfolio holds per stock\n",
        "    NoShares = x[:,t]*currentVal[t]/currentPrices\n",
        "\n",
        "    # Update counter for the number of observations per investment period\n",
        "    fromDay = toDay\n",
        "    toDay   = toDay + len(periodPrices)\n",
        "\n",
        "    # Weekly portfolio value during the out-of-sample window\n",
        "    portfValue.append(periodPrices@ NoShares.values.T)\n",
        "\n",
        "    # Update your calibration and out-of-sample test periods\n",
        "    testStart = testStart + pd.offsets.DateOffset(months=investPeriod)\n",
        "    testEnd   = testStart + pd.offsets.DateOffset(months=investPeriod) - pd.offsets.DateOffset(days=1)\n",
        "    calEnd    = testStart - pd.offsets.DateOffset(days=1)\n",
        "\n",
        "portfValue = pd.concat(portfValue, axis = 0)\n",
        "end_time = time.time()"
      ]
    },
    {
      "cell_type": "markdown",
      "metadata": {},
      "source": []
    },
    {
      "cell_type": "markdown",
      "metadata": {
        "collapsed": false,
        "id": "Vc5_c6mdgMbU"
      },
      "source": [
        "# 3. Results"
      ]
    },
    {
      "cell_type": "code",
      "execution_count": 8,
      "metadata": {
        "ExecuteTime": {
          "end_time": "2024-03-20T20:29:36.673061Z",
          "start_time": "2024-03-20T20:29:36.658439800Z"
        },
        "id": "B8lFFx6wgMbU",
        "outputId": "50fb4f85-5b81-464d-8837-6338d0253b60"
      },
      "outputs": [
        {
          "name": "stdout",
          "output_type": "stream",
          "text": [
            "Elasped time is 7.821029424667358 seconds\n",
            "Sharpe ratio:  nan\n",
            "Avg. turnover:  nan\n"
          ]
        },
        {
          "name": "stderr",
          "output_type": "stream",
          "text": [
            "D:\\temp\\ipykernel_27012\\2901276941.py:5: FutureWarning: The default fill_method='pad' in DataFrame.pct_change is deprecated and will be removed in a future version. Either fill in any non-leading NA values prior to calling pct_change or specify 'fill_method=None' to not fill NA values.\n",
            "  portfRets = portfValue.pct_change(1).iloc[1:,:]\n"
          ]
        }
      ],
      "source": [
        "#--------------------------------------------------------------------------\n",
        "# 3.1 Calculate the portfolio average return, standard deviation, Sharpe ratio and average turnover.\n",
        "#-----------------------------------------------------------------------\n",
        "# Calculate the observed portfolio returns\n",
        "portfRets = portfValue.pct_change(1).iloc[1:,:]\n",
        "\n",
        "# Calculate the portfolio excess returns\n",
        "portfExRets = portfRets.subtract(riskFree[(riskFree.index >= portfRets.index[0])&(riskFree.index <= portfRets.index[-1])], axis = 0)\n",
        "\n",
        "# Calculate the portfolio Sharpe ratio\n",
        "SR = ((portfExRets + 1).apply(gmean, axis=0) - 1)/portfExRets.std()\n",
        "\n",
        "# Calculate the average turnover rate\n",
        "avgTurnover = np.mean(turnover[1:])\n",
        "\n",
        "#Print Sharpe ratio and Avg. turnover to the console\n",
        "print(\"Elasped time is \"+ str(end_time - start_time) + ' seconds')\n",
        "print('Sharpe ratio: ', str(SR[0]))\n",
        "print('Avg. turnover: ', str(avgTurnover))"
      ]
    },
    {
      "cell_type": "code",
      "execution_count": 9,
      "metadata": {
        "ExecuteTime": {
          "end_time": "2024-03-20T20:29:37.254207300Z",
          "start_time": "2024-03-20T20:29:36.675062200Z"
        },
        "id": "MNSU8plpgMbV",
        "outputId": "d7cdd188-edfe-482c-a871-4dead8923348"
      },
      "outputs": [
        {
          "ename": "TypeError",
          "evalue": "no numeric data to plot",
          "output_type": "error",
          "traceback": [
            "\u001b[1;31m---------------------------------------------------------------------------\u001b[0m",
            "\u001b[1;31mTypeError\u001b[0m                                 Traceback (most recent call last)",
            "Cell \u001b[1;32mIn[9], line 22\u001b[0m\n\u001b[0;32m     20\u001b[0m weights \u001b[38;5;241m=\u001b[39m pd\u001b[38;5;241m.\u001b[39mDataFrame(x, index \u001b[38;5;241m=\u001b[39m tickers)\n\u001b[0;32m     21\u001b[0m weights\u001b[38;5;241m.\u001b[39mcolumns \u001b[38;5;241m=\u001b[39m [col \u001b[38;5;241m+\u001b[39m \u001b[38;5;241m1\u001b[39m \u001b[38;5;28;01mfor\u001b[39;00m col \u001b[38;5;129;01min\u001b[39;00m weights\u001b[38;5;241m.\u001b[39mcolumns]\n\u001b[1;32m---> 22\u001b[0m \u001b[43mweights\u001b[49m\u001b[43m[\u001b[49m\u001b[43m(\u001b[49m\u001b[43mweights\u001b[49m\u001b[43m \u001b[49m\u001b[38;5;241;43m>\u001b[39;49m\u001b[43m \u001b[49m\u001b[38;5;241;43m0\u001b[39;49m\u001b[43m)\u001b[49m\u001b[38;5;241;43m.\u001b[39;49m\u001b[43many\u001b[49m\u001b[43m(\u001b[49m\u001b[43maxis\u001b[49m\u001b[38;5;241;43m=\u001b[39;49m\u001b[38;5;241;43m1\u001b[39;49m\u001b[43m)\u001b[49m\u001b[43m]\u001b[49m\u001b[38;5;241;43m.\u001b[39;49m\u001b[43mT\u001b[49m\u001b[38;5;241;43m.\u001b[39;49m\u001b[43mplot\u001b[49m\u001b[38;5;241;43m.\u001b[39;49m\u001b[43marea\u001b[49m\u001b[43m(\u001b[49m\u001b[43mtitle\u001b[49m\u001b[43m \u001b[49m\u001b[38;5;241;43m=\u001b[39;49m\u001b[43m \u001b[49m\u001b[38;5;124;43m'\u001b[39;49m\u001b[38;5;124;43mPortfolio weights\u001b[39;49m\u001b[38;5;124;43m'\u001b[39;49m\u001b[43m,\u001b[49m\n\u001b[0;32m     23\u001b[0m \u001b[43m                  \u001b[49m\u001b[43mylabel\u001b[49m\u001b[43m \u001b[49m\u001b[38;5;241;43m=\u001b[39;49m\u001b[43m \u001b[49m\u001b[38;5;124;43m'\u001b[39;49m\u001b[38;5;124;43mWeights\u001b[39;49m\u001b[38;5;124;43m'\u001b[39;49m\u001b[43m,\u001b[49m\u001b[43m \u001b[49m\u001b[43mxlabel\u001b[49m\u001b[43m \u001b[49m\u001b[38;5;241;43m=\u001b[39;49m\u001b[43m \u001b[49m\u001b[38;5;124;43m'\u001b[39;49m\u001b[38;5;124;43mRebalance Period\u001b[39;49m\u001b[38;5;124;43m'\u001b[39;49m\u001b[43m,\u001b[49m\n\u001b[0;32m     24\u001b[0m \u001b[43m                  \u001b[49m\u001b[43mfigsize\u001b[49m\u001b[43m \u001b[49m\u001b[38;5;241;43m=\u001b[39;49m\u001b[43m \u001b[49m\u001b[43m(\u001b[49m\u001b[38;5;241;43m6\u001b[39;49m\u001b[43m,\u001b[49m\u001b[43m \u001b[49m\u001b[38;5;241;43m3\u001b[39;49m\u001b[43m)\u001b[49m\u001b[43m,\u001b[49m\n\u001b[0;32m     25\u001b[0m \u001b[43m                  \u001b[49m\u001b[43mlegend\u001b[49m\u001b[43m \u001b[49m\u001b[38;5;241;43m=\u001b[39;49m\u001b[43m \u001b[49m\u001b[38;5;28;43;01mTrue\u001b[39;49;00m\u001b[43m,\u001b[49m\u001b[43m \u001b[49m\u001b[43mstacked\u001b[49m\u001b[43m \u001b[49m\u001b[38;5;241;43m=\u001b[39;49m\u001b[43m \u001b[49m\u001b[38;5;28;43;01mTrue\u001b[39;49;00m\u001b[43m)\u001b[49m\n\u001b[0;32m     26\u001b[0m plt\u001b[38;5;241m.\u001b[39mlegend(loc\u001b[38;5;241m=\u001b[39m\u001b[38;5;124m'\u001b[39m\u001b[38;5;124mcenter left\u001b[39m\u001b[38;5;124m'\u001b[39m, bbox_to_anchor\u001b[38;5;241m=\u001b[39m(\u001b[38;5;241m1.0\u001b[39m, \u001b[38;5;241m0.5\u001b[39m))\n\u001b[0;32m     27\u001b[0m plt\u001b[38;5;241m.\u001b[39msavefig(\u001b[38;5;124m\"\u001b[39m\u001b[38;5;124mimages/weights.svg\u001b[39m\u001b[38;5;124m\"\u001b[39m)\n",
            "File \u001b[1;32me:\\anaconda\\envs\\mmf1921\\lib\\site-packages\\pandas\\plotting\\_core.py:1603\u001b[0m, in \u001b[0;36mPlotAccessor.area\u001b[1;34m(self, x, y, stacked, **kwargs)\u001b[0m\n\u001b[0;32m   1526\u001b[0m \u001b[38;5;28;01mdef\u001b[39;00m\u001b[38;5;250m \u001b[39m\u001b[38;5;21marea\u001b[39m(\n\u001b[0;32m   1527\u001b[0m     \u001b[38;5;28mself\u001b[39m,\n\u001b[0;32m   1528\u001b[0m     x: Hashable \u001b[38;5;241m|\u001b[39m \u001b[38;5;28;01mNone\u001b[39;00m \u001b[38;5;241m=\u001b[39m \u001b[38;5;28;01mNone\u001b[39;00m,\n\u001b[1;32m   (...)\u001b[0m\n\u001b[0;32m   1531\u001b[0m     \u001b[38;5;241m*\u001b[39m\u001b[38;5;241m*\u001b[39mkwargs,\n\u001b[0;32m   1532\u001b[0m ) \u001b[38;5;241m-\u001b[39m\u001b[38;5;241m>\u001b[39m PlotAccessor:\n\u001b[0;32m   1533\u001b[0m \u001b[38;5;250m    \u001b[39m\u001b[38;5;124;03m\"\"\"\u001b[39;00m\n\u001b[0;32m   1534\u001b[0m \u001b[38;5;124;03m    Draw a stacked area plot.\u001b[39;00m\n\u001b[0;32m   1535\u001b[0m \n\u001b[1;32m   (...)\u001b[0m\n\u001b[0;32m   1601\u001b[0m \u001b[38;5;124;03m        >>> ax = df.plot.area(x='day')\u001b[39;00m\n\u001b[0;32m   1602\u001b[0m \u001b[38;5;124;03m    \"\"\"\u001b[39;00m\n\u001b[1;32m-> 1603\u001b[0m     \u001b[38;5;28;01mreturn\u001b[39;00m \u001b[38;5;28mself\u001b[39m(kind\u001b[38;5;241m=\u001b[39m\u001b[38;5;124m\"\u001b[39m\u001b[38;5;124marea\u001b[39m\u001b[38;5;124m\"\u001b[39m, x\u001b[38;5;241m=\u001b[39mx, y\u001b[38;5;241m=\u001b[39my, stacked\u001b[38;5;241m=\u001b[39mstacked, \u001b[38;5;241m*\u001b[39m\u001b[38;5;241m*\u001b[39mkwargs)\n",
            "File \u001b[1;32me:\\anaconda\\envs\\mmf1921\\lib\\site-packages\\pandas\\plotting\\_core.py:1030\u001b[0m, in \u001b[0;36mPlotAccessor.__call__\u001b[1;34m(self, *args, **kwargs)\u001b[0m\n\u001b[0;32m   1027\u001b[0m             label_name \u001b[38;5;241m=\u001b[39m label_kw \u001b[38;5;129;01mor\u001b[39;00m data\u001b[38;5;241m.\u001b[39mcolumns\n\u001b[0;32m   1028\u001b[0m             data\u001b[38;5;241m.\u001b[39mcolumns \u001b[38;5;241m=\u001b[39m label_name\n\u001b[1;32m-> 1030\u001b[0m \u001b[38;5;28;01mreturn\u001b[39;00m plot_backend\u001b[38;5;241m.\u001b[39mplot(data, kind\u001b[38;5;241m=\u001b[39mkind, \u001b[38;5;241m*\u001b[39m\u001b[38;5;241m*\u001b[39mkwargs)\n",
            "File \u001b[1;32me:\\anaconda\\envs\\mmf1921\\lib\\site-packages\\pandas\\plotting\\_matplotlib\\__init__.py:71\u001b[0m, in \u001b[0;36mplot\u001b[1;34m(data, kind, **kwargs)\u001b[0m\n\u001b[0;32m     69\u001b[0m         kwargs[\u001b[38;5;124m\"\u001b[39m\u001b[38;5;124max\u001b[39m\u001b[38;5;124m\"\u001b[39m] \u001b[38;5;241m=\u001b[39m \u001b[38;5;28mgetattr\u001b[39m(ax, \u001b[38;5;124m\"\u001b[39m\u001b[38;5;124mleft_ax\u001b[39m\u001b[38;5;124m\"\u001b[39m, ax)\n\u001b[0;32m     70\u001b[0m plot_obj \u001b[38;5;241m=\u001b[39m PLOT_CLASSES[kind](data, \u001b[38;5;241m*\u001b[39m\u001b[38;5;241m*\u001b[39mkwargs)\n\u001b[1;32m---> 71\u001b[0m \u001b[43mplot_obj\u001b[49m\u001b[38;5;241;43m.\u001b[39;49m\u001b[43mgenerate\u001b[49m\u001b[43m(\u001b[49m\u001b[43m)\u001b[49m\n\u001b[0;32m     72\u001b[0m plot_obj\u001b[38;5;241m.\u001b[39mdraw()\n\u001b[0;32m     73\u001b[0m \u001b[38;5;28;01mreturn\u001b[39;00m plot_obj\u001b[38;5;241m.\u001b[39mresult\n",
            "File \u001b[1;32me:\\anaconda\\envs\\mmf1921\\lib\\site-packages\\pandas\\plotting\\_matplotlib\\core.py:499\u001b[0m, in \u001b[0;36mMPLPlot.generate\u001b[1;34m(self)\u001b[0m\n\u001b[0;32m    497\u001b[0m \u001b[38;5;129m@final\u001b[39m\n\u001b[0;32m    498\u001b[0m \u001b[38;5;28;01mdef\u001b[39;00m\u001b[38;5;250m \u001b[39m\u001b[38;5;21mgenerate\u001b[39m(\u001b[38;5;28mself\u001b[39m) \u001b[38;5;241m-\u001b[39m\u001b[38;5;241m>\u001b[39m \u001b[38;5;28;01mNone\u001b[39;00m:\n\u001b[1;32m--> 499\u001b[0m     \u001b[38;5;28;43mself\u001b[39;49m\u001b[38;5;241;43m.\u001b[39;49m\u001b[43m_compute_plot_data\u001b[49m\u001b[43m(\u001b[49m\u001b[43m)\u001b[49m\n\u001b[0;32m    500\u001b[0m     fig \u001b[38;5;241m=\u001b[39m \u001b[38;5;28mself\u001b[39m\u001b[38;5;241m.\u001b[39mfig\n\u001b[0;32m    501\u001b[0m     \u001b[38;5;28mself\u001b[39m\u001b[38;5;241m.\u001b[39m_make_plot(fig)\n",
            "File \u001b[1;32me:\\anaconda\\envs\\mmf1921\\lib\\site-packages\\pandas\\plotting\\_matplotlib\\core.py:698\u001b[0m, in \u001b[0;36mMPLPlot._compute_plot_data\u001b[1;34m(self)\u001b[0m\n\u001b[0;32m    696\u001b[0m \u001b[38;5;66;03m# no non-numeric frames or series allowed\u001b[39;00m\n\u001b[0;32m    697\u001b[0m \u001b[38;5;28;01mif\u001b[39;00m is_empty:\n\u001b[1;32m--> 698\u001b[0m     \u001b[38;5;28;01mraise\u001b[39;00m \u001b[38;5;167;01mTypeError\u001b[39;00m(\u001b[38;5;124m\"\u001b[39m\u001b[38;5;124mno numeric data to plot\u001b[39m\u001b[38;5;124m\"\u001b[39m)\n\u001b[0;32m    700\u001b[0m \u001b[38;5;28mself\u001b[39m\u001b[38;5;241m.\u001b[39mdata \u001b[38;5;241m=\u001b[39m numeric_data\u001b[38;5;241m.\u001b[39mapply(\u001b[38;5;28mtype\u001b[39m(\u001b[38;5;28mself\u001b[39m)\u001b[38;5;241m.\u001b[39m_convert_to_ndarray)\n",
            "\u001b[1;31mTypeError\u001b[0m: no numeric data to plot"
          ]
        },
        {
          "data": {
            "text/plain": [
              "<Figure size 640x480 with 0 Axes>"
            ]
          },
          "metadata": {},
          "output_type": "display_data"
        },
        {
          "data": {
            "image/png": "[encoded data removed]",
            "text/plain": [
              "<Figure size 600x300 with 1 Axes>"
            ]
          },
          "metadata": {},
          "output_type": "display_data"
        }
      ],
      "source": [
        "#--------------------------------------------------------------------------\n",
        "# 3.2 Portfolio wealth evolution plot\n",
        "#--------------------------------------------------------------------------\n",
        "# Calculate the dates of the out-of-sample period\n",
        "\n",
        "fig = plt.figure(1)\n",
        "portfValue.plot(title = 'Portfolio wealth evolution',\n",
        "                ylabel = 'Total wealth',\n",
        "                figsize = (6, 3),\n",
        "                legend = False)\n",
        "plt.savefig(\"images/wealth.svg\")\n",
        "\n",
        "#--------------------------------------------------------------------------\n",
        "# 3.3 Portfolio weights plot\n",
        "#--------------------------------------------------------------------------\n",
        "# Portfolio weights\n",
        "\n",
        "fig2 = plt.figure(2)\n",
        "x[x < 0] = 0\n",
        "weights = pd.DataFrame(x, index = tickers)\n",
        "weights.columns = [col + 1 for col in weights.columns]\n",
        "weights[(weights > 0).any(axis=1)].T.plot.area(title = 'Portfolio weights',\n",
        "                  ylabel = 'Weights', xlabel = 'Rebalance Period',\n",
        "                  figsize = (6, 3),\n",
        "                  legend = True, stacked = True)\n",
        "plt.legend(loc='center left', bbox_to_anchor=(1.0, 0.5))\n",
        "plt.savefig(\"images/weights.svg\")\n",
        "#\n",
        "# %%%%%%%%%%%%%%%%%%%%%%%%%%%%%%%%%%%%%%%%%%%%%%%%%%%%%%%%%%%%%%%%%%%%%%%%%%%\n",
        "# % Program End"
      ]
    }
  ],
  "metadata": {
    "colab": {
      "provenance": []
    },
    "kernelspec": {
      "display_name": "mmf1921",
      "language": "python",
      "name": "python3"
    },
    "language_info": {
      "codemirror_mode": {
        "name": "ipython",
        "version": 3
      },
      "file_extension": ".py",
      "mimetype": "text/x-python",
      "name": "python",
      "nbconvert_exporter": "python",
      "pygments_lexer": "ipython3",
      "version": "3.10.17"
    }
  },
  "nbformat": 4,
  "nbformat_minor": 0
}
